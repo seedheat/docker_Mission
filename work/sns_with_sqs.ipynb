{
 "cells": [
  {
   "cell_type": "code",
   "execution_count": null,
   "metadata": {},
   "outputs": [],
   "source": [
    "'''\n",
    "sns能夠 與 環境中的sqs 進行串接 (v)\n",
    "sns 可以發消息 進入sqs\n",
    "另外可用Python對sns進行topic 創建 新增內容推送 (v)\n",
    "'''"
   ]
  },
  {
   "cell_type": "code",
   "execution_count": 1,
   "metadata": {},
   "outputs": [],
   "source": [
    "# 引用套件\n",
    "import boto3\n",
    "\n",
    "# 建立 sqs_client, sqs_resource, sns_client 的連線\n",
    "# sqs_client\n",
    "sqs_client = boto3.client(\n",
    "    'sqs',\n",
    "    endpoint_url = 'http://cc104.sqs.local:9324',\n",
    "    region_name = 'dummy_region',\n",
    "    aws_access_key_id = 'dummy_access_key',\n",
    "    aws_secret_access_key = 'dummy_secret_key',\n",
    "    verify = False)\n",
    "\n",
    "# sqs_resource\n",
    "#sqs_resource = boto3.resource(\n",
    "#    'sqs',\n",
    "#    endpoint_url = 'http://cc104.sqs.local:9324',\n",
    "#    region_name = 'dummy_region',\n",
    "#    aws_access_key_id = 'dummy_access_key',\n",
    "#    aws_secret_access_key = 'dummy_secret_key',\n",
    "#    verify = False)\n",
    "\n",
    "# sns_client\n",
    "sns_client = boto3.client(\n",
    "    'sns',\n",
    "    endpoint_url = 'http://cc104.sns.local:9911',\n",
    "    region_name = 'dummy_region',\n",
    "    aws_access_key_id = 'dummy_access_key',\n",
    "    aws_secret_access_key = 'dummy_secret_key',\n",
    "    verify = False)"
   ]
  },
  {
   "cell_type": "code",
   "execution_count": 2,
   "metadata": {},
   "outputs": [],
   "source": [
    "# 環境建立好後使用的變數名稱\n",
    "sqs_queue_url = 'http://cc104.sqs.local:9324/queue/cc104'\n",
    "sqs_queue_arn = \"aws-sqs://cc104?amazonSQSEndpoint=http://cc104.sqs.local:9324&accessKey=&secretKey=\"\n",
    "sns_topic_arn = 'arn:aws:sns:us-east-1:123456789012:cc104'"
   ]
  },
  {
   "cell_type": "code",
   "execution_count": null,
   "metadata": {},
   "outputs": [],
   "source": [
    "# 建立一個 sqs queue\n",
    "sqs_queue = sqs_client.create_queue( QueueName = 'cc104' )\n",
    "print(sqs_queue)\n",
    "\n",
    "# 將 queue 的 URL 存成變數\n",
    "sqs_queue_url = sqs_queue['QueueUrl']\n",
    "print(sqs_queue_url)"
   ]
  },
  {
   "cell_type": "code",
   "execution_count": null,
   "metadata": {},
   "outputs": [],
   "source": [
    "# 取用 sqs_queue 中的 Attributes\n",
    "sqs_queue_atttrs = sqs_client.get_queue_attributes(\n",
    "    QueueUrl = sqs_queue_url,\n",
    "    AttributeNames = ['All']\n",
    ")\n",
    "print(sqs_queue_atttrs['Attributes'])\n",
    "\n",
    "# 從 Attributes 中取出 QueueArn 的值，之後要給 sns 訂閱\n",
    "# 這是正統在雲上的方法\n",
    "#sqs_queue_arn = sqs_queue_atttrs['Attributes']['QueueArn']\n",
    "#print(sqs_queue_arn)\n"
   ]
  },
  {
   "cell_type": "code",
   "execution_count": null,
   "metadata": {},
   "outputs": [],
   "source": [
    "# 但是萬惡的 local環境不吃正統的 ARN\n",
    "# 根據該 image作者的 db.json你會發現註冊的ARN不是AWS正統的ARN而是\n",
    "sqs_queue_arn = \"aws-sqs://cc104?amazonSQSEndpoint=http://cc104.sqs.local:9324&accessKey=&secretKey=\""
   ]
  },
  {
   "cell_type": "code",
   "execution_count": null,
   "metadata": {},
   "outputs": [],
   "source": [
    "# 建立一個 sns_topic\n",
    "sns_topic = sns_client.create_topic( Name = 'cc104' )\n",
    "print(sns_topic)\n",
    "\n",
    "# 從 sns_topic 中取出 TopicArn 的值，之後要給 sns 訂閱\n",
    "sns_topic_arn = sns_topic['TopicArn']\n",
    "print(sns_topic_arn)"
   ]
  },
  {
   "cell_type": "code",
   "execution_count": null,
   "metadata": {},
   "outputs": [],
   "source": [
    "# 將 SNS 訂閱 SQS \n",
    "sns_client.subscribe(\n",
    "    TopicArn = sns_topic_arn,\n",
    "    Protocol = 'sqs',\n",
    "    Endpoint = sqs_queue_arn\n",
    ")"
   ]
  },
  {
   "cell_type": "code",
   "execution_count": 5,
   "metadata": {},
   "outputs": [
    {
     "name": "stdout",
     "output_type": "stream",
     "text": [
      "{'MessageId': '7c2f692f-fec5-44ba-9466-512b8995648a', 'ResponseMetadata': {'RequestId': '54d056df-557c-43b7-ba53-24ba5a7081c5', 'HTTPStatusCode': 200, 'HTTPHeaders': {'server': 'akka-http/10.0.10', 'date': 'Thu, 17 Jan 2019 01:40:41 GMT', 'content-type': 'text/xml; charset=UTF-8', 'content-length': '270'}, 'RetryAttempts': 0}}\n"
     ]
    }
   ],
   "source": [
    "# SNS Publish Message to SQS\n",
    "import json\n",
    "response = sns_client.publish(\n",
    "    TopicArn = sns_topic_arn,\n",
    "    #TargetArn = sqs_queue_arn,\n",
    "    Message = json.dumps({'default':'Hello World!'}),\n",
    "    Subject = 'Mission18',\n",
    "    MessageStructure = 'json'\n",
    ")\n",
    "\n",
    "#response = sns_client.publish(\n",
    "#    TopicArn = sns_topic_arn,\n",
    "#    TargetArn = sqs_queue_arn,\n",
    "#    Message = 'Hello World!',\n",
    "#    Subject = 'Mission18'\n",
    "#)\n",
    "\n",
    "print(response)"
   ]
  },
  {
   "cell_type": "code",
   "execution_count": 4,
   "metadata": {},
   "outputs": [
    {
     "name": "stdout",
     "output_type": "stream",
     "text": [
      "{'Messages': [{'MessageId': '933fd821-7aa5-4e27-a8d6-ea4d40b8697d', 'ReceiptHandle': '933fd821-7aa5-4e27-a8d6-ea4d40b8697d#608a9947-1ce3-4116-bb8d-7b8bf0b82c7a', 'MD5OfBody': '39cc45771bc3726f14d057de9c9ad735', 'Body': '{\"MessageId\":\"10a46ac0-d6f5-4e1a-a0cd-1fa7af8a8b40\",\"Message\":\"Hello World!\",\"Type\":\"Notification\"}', 'Attributes': {'SentTimestamp': '1547689201962'}, 'MD5OfMessageAttributes': 'be4a68f0e1b91fcf9166c30df4afad81', 'MessageAttributes': {'x-amz-sns-topic-arn': {'StringValue': 'arn:aws:sns:us-east-1:123456789012:cc104', 'DataType': 'String'}, 'x-amz-sns-message-type': {'StringValue': 'Notification', 'DataType': 'String'}, 'x-amz-sns-subscription-arn': {'StringValue': 'arn:aws:sns:us-east-1:123456789012:cc104:16e6bcac-d058-49d4-9e85-11a5f77828d2', 'DataType': 'String'}}}], 'ResponseMetadata': {'RequestId': '00000000-0000-0000-0000-000000000000', 'HTTPStatusCode': 200, 'HTTPHeaders': {'server': 'akka-http/10.0.2', 'date': 'Thu, 17 Jan 2019 01:40:11 GMT', 'content-type': 'text/plain; charset=UTF-8', 'content-length': '1853'}, 'RetryAttempts': 0}}\n"
     ]
    }
   ],
   "source": [
    "# Receive Message from SQS queue\n",
    "message = sqs_client.receive_message(\n",
    "    QueueUrl = sqs_queue_url,\n",
    "    AttributeNames = [\n",
    "        'SentTimestamp'\n",
    "    ],\n",
    "    MaxNumberOfMessages = 1,\n",
    "    MessageAttributeNames = [\n",
    "        'All'\n",
    "    ],\n",
    "    VisibilityTimeout = 0,\n",
    "    WaitTimeSeconds = 0\n",
    ")\n",
    "print(message)"
   ]
  },
  {
   "cell_type": "code",
   "execution_count": 6,
   "metadata": {},
   "outputs": [
    {
     "name": "stdout",
     "output_type": "stream",
     "text": [
      "{\"MessageId\":\"10a46ac0-d6f5-4e1a-a0cd-1fa7af8a8b40\",\"Message\":\"Hello World!\",\"Type\":\"Notification\"}\n",
      "{\"MessageId\":\"7c2f692f-fec5-44ba-9466-512b8995648a\",\"Message\":\"Hello World!\",\"Type\":\"Notification\"}\n",
      "Queue is now empty\n"
     ]
    }
   ],
   "source": [
    "# Receive Message from SQS queue\n",
    "while True:\n",
    "    messages = sqs_client.receive_message(\n",
    "        QueueUrl = sqs_queue_url,\n",
    "        #AttributeNames=[\n",
    "        #    'SentTimestamp'\n",
    "        #],\n",
    "        MaxNumberOfMessages=1,\n",
    "        #MessageAttributeNames=[\n",
    "        #    'All'\n",
    "        #],\n",
    "        #VisibilityTimeout=0,\n",
    "        WaitTimeSeconds = 20\n",
    "    )\n",
    "    if 'Messages' in messages:\n",
    "        for message in messages['Messages']:\n",
    "            print(message['Body'])\n",
    "            sqs_client.delete_message(\n",
    "                QueueUrl = sqs_queue_url,\n",
    "                ReceiptHandle = message['ReceiptHandle']\n",
    "            )\n",
    "    else:\n",
    "        print('Queue is now empty')\n",
    "        break"
   ]
  },
  {
   "cell_type": "code",
   "execution_count": null,
   "metadata": {},
   "outputs": [],
   "source": [
    "# Process messages by printing out body and optional author name\n",
    "#for message in sqs_queue_name.receive_messages(MessageAttributeNames=['Author']):\n",
    "    # Get the custom author message attribute if it was set\n",
    "#    author_text = ''\n",
    "#    if message.message_attributes is not None:\n",
    "#        author_name = message.message_attributes.get('Author').get('StringValue')\n",
    "#        if author_name:\n",
    "#            author_text = ' ({0})'.format(author_name)\n",
    "#\n",
    "    # Print out the body and author (if set)\n",
    "#    print('Hello, {0}!{1}'.format(message.body, author_text))\n",
    "\n",
    "    # Let the queue know that the message is processed\n",
    "#    message.delete()"
   ]
  },
  {
   "cell_type": "code",
   "execution_count": null,
   "metadata": {},
   "outputs": [],
   "source": [
    "#response = sns_client.get_subscription_attributes(\n",
    "#    SubscriptionArn = sqs_queue_arn\n",
    "#)\n",
    "#print(response)"
   ]
  },
  {
   "cell_type": "code",
   "execution_count": null,
   "metadata": {},
   "outputs": [],
   "source": []
  }
 ],
 "metadata": {
  "kernelspec": {
   "display_name": "Python 3",
   "language": "python",
   "name": "python3"
  },
  "language_info": {
   "codemirror_mode": {
    "name": "ipython",
    "version": 3
   },
   "file_extension": ".py",
   "mimetype": "text/x-python",
   "name": "python",
   "nbconvert_exporter": "python",
   "pygments_lexer": "ipython3",
   "version": "3.7.1"
  }
 },
 "nbformat": 4,
 "nbformat_minor": 2
}
