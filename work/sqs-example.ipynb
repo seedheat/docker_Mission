{
 "cells": [
  {
   "cell_type": "code",
   "execution_count": 4,
   "metadata": {},
   "outputs": [],
   "source": [
    "# 引用套件\n",
    "import boto3\n",
    "\n",
    "# 建立與 sqs 的連線\n",
    "client = boto3.client(\n",
    "    'sqs',\n",
    "    endpoint_url = 'http://cc104.sqs.local:9324',\n",
    "    region_name = 'dummy_region',\n",
    "    aws_access_key_id = 'dummy_access_key',\n",
    "    aws_secret_access_key = 'dummy_secret_key',\n",
    "    verify = False)"
   ]
  },
  {
   "cell_type": "code",
   "execution_count": 5,
   "metadata": {},
   "outputs": [
    {
     "data": {
      "text/plain": [
       "{'QueueUrl': 'http://cc104.sqs.local:9324/queue/test_queue',\n",
       " 'ResponseMetadata': {'RequestId': '00000000-0000-0000-0000-000000000000',\n",
       "  'HTTPStatusCode': 200,\n",
       "  'HTTPHeaders': {'server': 'akka-http/10.0.2',\n",
       "   'date': 'Wed, 16 Jan 2019 11:47:01 GMT',\n",
       "   'content-type': 'text/plain; charset=UTF-8',\n",
       "   'content-length': '429'},\n",
       "  'RetryAttempts': 0}}"
      ]
     },
     "execution_count": 5,
     "metadata": {},
     "output_type": "execute_result"
    }
   ],
   "source": [
    "# 建立 queue\n",
    "client.create_queue(QueueName='test_queue')"
   ]
  },
  {
   "cell_type": "code",
   "execution_count": 8,
   "metadata": {},
   "outputs": [
    {
     "name": "stdout",
     "output_type": "stream",
     "text": [
      "http://cc104.sqs.local:9324/queue/test_queue\n"
     ]
    }
   ],
   "source": [
    "# 調用 test_queue\n",
    "# get a list of queues, we get back a dict with 'QueueUrls' as a key with a list of queue URLs\n",
    "# we filter to narrow down the list\n",
    "queues = client.list_queues(QueueNamePrefix='test_queue')\n",
    "test_queue_url = queues['QueueUrls'][0]\n",
    "print(test_queue_url)"
   ]
  },
  {
   "cell_type": "code",
   "execution_count": 4,
   "metadata": {},
   "outputs": [
    {
     "name": "stdout",
     "output_type": "stream",
     "text": [
      "Message ID :  f3d22cc7-61ee-432f-ac2e-6ecd0824cced\n",
      "Message ID :  53ff0d29-7a8e-44ef-abde-55d85cdddfc4\n",
      "Message ID :  853f7755-790d-4b63-a087-05f7310ab087\n",
      "Message ID :  89920b64-7438-400e-b845-b51b484784ba\n",
      "Message ID :  a365d63a-fb75-4e46-8324-067536434a5f\n",
      "Message ID :  98df9eee-a9fd-4b44-a0ac-e99f7dcaa9b9\n",
      "Message ID :  11c64adb-f139-4f91-8f15-51484b101f67\n",
      "Message ID :  2082143f-dfbf-43aa-801c-cdeb8fcb5360\n",
      "Message ID :  16aefb9a-5dfe-4e87-8708-3abe9213716c\n",
      "Message ID :  0ea997e9-87bc-4a43-8a53-45ae52a0d12f\n"
     ]
    }
   ],
   "source": [
    "# 寫入訊息\n",
    "# send 10 messages to this queue\n",
    "for i in range(0,10):\n",
    "    # we set a simple message body for each message\n",
    "    # for FIFO queues, a 'MessageGroupId' is required, which is a 128 char alphanumeric string\n",
    "    enqueue_response = client.send_message(\n",
    "        QueueUrl = test_queue_url, \n",
    "        MessageBody = 'This is test message #'+str(i)\n",
    "    )\n",
    "    # the response contains MD5 of the body, a message Id, MD5 of message attributes, and a sequence number (for FIFO queues)\n",
    "    print('Message ID : ',enqueue_response['MessageId'])"
   ]
  },
  {
   "cell_type": "code",
   "execution_count": 5,
   "metadata": {},
   "outputs": [
    {
     "name": "stdout",
     "output_type": "stream",
     "text": [
      "This is test message #9\n",
      "This is test message #8\n",
      "This is test message #7\n",
      "This is test message #6\n",
      "This is test message #5\n",
      "This is test message #4\n",
      "This is test message #3\n",
      "This is test message #2\n",
      "This is test message #1\n",
      "This is test message #0\n",
      "Queue is now empty\n"
     ]
    }
   ],
   "source": [
    "# 刪除訊息\n",
    "# next, we dequeue these messages - 10 messages at a time (SQS max limit) till the queue is exhausted.\n",
    "# in production/real setup, I suggest using long polling as you get billed for each request, regardless of an empty response\n",
    "while True:\n",
    "    messages = client.receive_message(QueueUrl=test_queue_url,MaxNumberOfMessages=10) # adjust MaxNumberOfMessages if needed\n",
    "    if 'Messages' in messages: # when the queue is exhausted, the response dict contains no 'Messages' key\n",
    "        for message in messages['Messages']: # 'Messages' is a list\n",
    "            # process the messages\n",
    "            print(message['Body'])\n",
    "            # next, we delete the message from the queue so no one else will process it again\n",
    "            client.delete_message(\n",
    "                QueueUrl=test_queue_url,\n",
    "                ReceiptHandle=message['ReceiptHandle']\n",
    "            )\n",
    "    else:\n",
    "        print('Queue is now empty')\n",
    "        break"
   ]
  },
  {
   "cell_type": "code",
   "execution_count": 6,
   "metadata": {},
   "outputs": [
    {
     "data": {
      "text/plain": [
       "{'ResponseMetadata': {'RequestId': '00000000-0000-0000-0000-000000000000',\n",
       "  'HTTPStatusCode': 200,\n",
       "  'HTTPHeaders': {'server': 'akka-http/10.0.2',\n",
       "   'date': 'Sun, 13 Jan 2019 07:04:53 GMT',\n",
       "   'content-type': 'text/plain; charset=UTF-8',\n",
       "   'content-length': '250'},\n",
       "  'RetryAttempts': 0}}"
      ]
     },
     "execution_count": 6,
     "metadata": {},
     "output_type": "execute_result"
    }
   ],
   "source": [
    "# 刪除 test queue\n",
    "# delete queue\n",
    "client.delete_queue(QueueUrl=test_queue_url)"
   ]
  },
  {
   "cell_type": "code",
   "execution_count": null,
   "metadata": {},
   "outputs": [],
   "source": []
  }
 ],
 "metadata": {
  "kernelspec": {
   "display_name": "Python 3",
   "language": "python",
   "name": "python3"
  },
  "language_info": {
   "codemirror_mode": {
    "name": "ipython",
    "version": 3
   },
   "file_extension": ".py",
   "mimetype": "text/x-python",
   "name": "python",
   "nbconvert_exporter": "python",
   "pygments_lexer": "ipython3",
   "version": "3.7.1"
  }
 },
 "nbformat": 4,
 "nbformat_minor": 2
}
