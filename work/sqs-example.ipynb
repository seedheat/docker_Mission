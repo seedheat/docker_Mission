{
 "cells": [
  {
   "cell_type": "code",
   "execution_count": 1,
   "metadata": {},
   "outputs": [],
   "source": [
    "# 引用套件\n",
    "import boto3\n",
    "\n",
    "# 建立與 sqs 的連線\n",
    "client = boto3.client(\n",
    "    'sqs',\n",
    "    endpoint_url = 'http://cc104.sqs.local:9324',\n",
    "    region_name = 'dummy_region',\n",
    "    aws_access_key_id = 'dummy_access_key',\n",
    "    aws_secret_access_key = 'dummy_secret_key',\n",
    "    verify = False)"
   ]
  },
  {
   "cell_type": "code",
   "execution_count": 2,
   "metadata": {},
   "outputs": [
    {
     "data": {
      "text/plain": [
       "{'QueueUrl': 'http://cc104.sqs.local:9324/queue/test_queue',\n",
       " 'ResponseMetadata': {'RequestId': '00000000-0000-0000-0000-000000000000',\n",
       "  'HTTPStatusCode': 200,\n",
       "  'HTTPHeaders': {'server': 'akka-http/10.1.3',\n",
       "   'date': 'Sun, 13 Jan 2019 04:03:59 GMT',\n",
       "   'content-type': 'text/plain; charset=UTF-8',\n",
       "   'content-length': '429'},\n",
       "  'RetryAttempts': 0}}"
      ]
     },
     "execution_count": 2,
     "metadata": {},
     "output_type": "execute_result"
    }
   ],
   "source": [
    "# 建立 queue\n",
    "client.create_queue(QueueName='test_queue')"
   ]
  },
  {
   "cell_type": "code",
   "execution_count": 3,
   "metadata": {},
   "outputs": [
    {
     "name": "stdout",
     "output_type": "stream",
     "text": [
      "http://cc104.sqs.local:9324/queue/test_queue\n"
     ]
    }
   ],
   "source": [
    "# 調用 test_queue\n",
    "# get a list of queues, we get back a dict with 'QueueUrls' as a key with a list of queue URLs\n",
    "# we filter to narrow down the list\n",
    "queues = client.list_queues(QueueNamePrefix='test_queue')\n",
    "test_queue_url = queues['QueueUrls'][0]\n",
    "print(test_queue_url)"
   ]
  },
  {
   "cell_type": "code",
   "execution_count": 4,
   "metadata": {},
   "outputs": [
    {
     "name": "stdout",
     "output_type": "stream",
     "text": [
      "Message ID :  b0737f23-bdae-4392-9b3f-8ce4f6c80a65\n",
      "Message ID :  535f81f3-9665-40f9-a0d7-4e1eecf56a3a\n",
      "Message ID :  faffd731-15e3-4b9c-aa6d-aa14916fe45e\n",
      "Message ID :  9b25763a-7d20-4756-9ceb-223aaa95948c\n",
      "Message ID :  a7633443-e354-4d53-b6bf-0dc2eb13ba69\n",
      "Message ID :  26caa83b-b129-4a2b-887a-5875e42b4450\n",
      "Message ID :  9a78c287-ecc5-44e8-9b1e-0f9d02fd6284\n",
      "Message ID :  97776c3d-4d1e-4276-95c2-932f9a6fdb84\n",
      "Message ID :  3897bd6b-3450-4ad4-829c-22750d6c24d6\n",
      "Message ID :  3684dc54-6423-4ce6-8505-3d6ccc7e6424\n"
     ]
    }
   ],
   "source": [
    "# 寫入訊息\n",
    "# send 10 messages to this queue\n",
    "for i in range(0,10):\n",
    "    # we set a simple message body for each message\n",
    "    # for FIFO queues, a 'MessageGroupId' is required, which is a 128 char alphanumeric string\n",
    "    enqueue_response = client.send_message(QueueUrl=test_queue_url, MessageBody='This is test message #'+str(i))\n",
    "    # the response contains MD5 of the body, a message Id, MD5 of message attributes, and a sequence number (for FIFO queues)\n",
    "    print('Message ID : ',enqueue_response['MessageId'])"
   ]
  },
  {
   "cell_type": "code",
   "execution_count": 5,
   "metadata": {},
   "outputs": [
    {
     "name": "stdout",
     "output_type": "stream",
     "text": [
      "This is test message #0\n",
      "This is test message #1\n",
      "This is test message #2\n",
      "This is test message #3\n",
      "This is test message #4\n",
      "This is test message #5\n",
      "This is test message #6\n",
      "This is test message #7\n",
      "This is test message #8\n",
      "This is test message #9\n",
      "Queue is now empty\n"
     ]
    }
   ],
   "source": [
    "# 刪除訊息\n",
    "# next, we dequeue these messages - 10 messages at a time (SQS max limit) till the queue is exhausted.\n",
    "# in production/real setup, I suggest using long polling as you get billed for each request, regardless of an empty response\n",
    "while True:\n",
    "    messages = client.receive_message(QueueUrl=test_queue_url,MaxNumberOfMessages=10) # adjust MaxNumberOfMessages if needed\n",
    "    if 'Messages' in messages: # when the queue is exhausted, the response dict contains no 'Messages' key\n",
    "        for message in messages['Messages']: # 'Messages' is a list\n",
    "            # process the messages\n",
    "            print(message['Body'])\n",
    "            # next, we delete the message from the queue so no one else will process it again\n",
    "            client.delete_message(QueueUrl=test_queue_url,ReceiptHandle=message['ReceiptHandle'])\n",
    "    else:\n",
    "        print('Queue is now empty')\n",
    "        break"
   ]
  },
  {
   "cell_type": "code",
   "execution_count": 7,
   "metadata": {},
   "outputs": [
    {
     "data": {
      "text/plain": [
       "{'ResponseMetadata': {'RequestId': '00000000-0000-0000-0000-000000000000',\n",
       "  'HTTPStatusCode': 200,\n",
       "  'HTTPHeaders': {'server': 'akka-http/10.1.3',\n",
       "   'date': 'Sun, 13 Jan 2019 03:57:45 GMT',\n",
       "   'content-type': 'text/plain; charset=UTF-8',\n",
       "   'content-length': '250'},\n",
       "  'RetryAttempts': 0}}"
      ]
     },
     "execution_count": 7,
     "metadata": {},
     "output_type": "execute_result"
    }
   ],
   "source": [
    "# 刪除 test queue\n",
    "# delete queue\n",
    "client.delete_queue(QueueUrl=test_queue_url)"
   ]
  },
  {
   "cell_type": "code",
   "execution_count": null,
   "metadata": {},
   "outputs": [],
   "source": []
  }
 ],
 "metadata": {
  "kernelspec": {
   "display_name": "Python 3",
   "language": "python",
   "name": "python3"
  },
  "language_info": {
   "codemirror_mode": {
    "name": "ipython",
    "version": 3
   },
   "file_extension": ".py",
   "mimetype": "text/x-python",
   "name": "python",
   "nbconvert_exporter": "python",
   "pygments_lexer": "ipython3",
   "version": "3.7.1"
  }
 },
 "nbformat": 4,
 "nbformat_minor": 2
}
