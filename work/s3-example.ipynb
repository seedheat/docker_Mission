{
 "cells": [
  {
   "cell_type": "code",
   "execution_count": 20,
   "metadata": {},
   "outputs": [],
   "source": [
    "# 引用套件\n",
    "import boto3\n",
    "from pprint import pprint\n",
    "# 建立與 s3 的連線\n",
    "\n",
    "# client version\n",
    "s3 = boto3.client(\n",
    "    's3',\n",
    "    endpoint_url = 'http://cc104.s3.local:4569',\n",
    "    region_name = 'dummy_region',\n",
    "    aws_access_key_id = 'dummy_access_key',\n",
    "    aws_secret_access_key = 'dummy_secret_key',\n",
    "    verify = False)\n",
    "\n",
    "# resource version\n",
    "s3resource = boto3.resource(\n",
    "    's3',\n",
    "    endpoint_url = 'http://cc104.s3.local:4569',\n",
    "    region_name = 'dummy_region',\n",
    "    aws_access_key_id = 'dummy_access_key',\n",
    "    aws_secret_access_key = 'dummy_secret_key',\n",
    "    verify = False)"
   ]
  },
  {
   "cell_type": "code",
   "execution_count": 11,
   "metadata": {},
   "outputs": [
    {
     "name": "stdout",
     "output_type": "stream",
     "text": [
      "s3.Bucket(name='cc104')\n"
     ]
    }
   ],
   "source": [
    "# 創建籃子\n",
    "# Create an Amazon S3 Bucket\n",
    "\n",
    "# client version\n",
    "s3TargetBucket = s3.create_bucket(Bucket = 'cc104')\n",
    "\n",
    "# resource version\n",
    "#s3TargetBucket = s3resource.Bucket(\"cc104\")\n",
    "#s3CreateTargetBucket = s3TargetBucket.create(\n",
    "#    ACL='private',CreateBucketConfiguration={'LocationConstraint' : 'ap-northeast-1'})\n",
    "bucket = s3resource.Bucket('cc104')\n",
    "print(bucket)"
   ]
  },
  {
   "cell_type": "code",
   "execution_count": 17,
   "metadata": {},
   "outputs": [],
   "source": [
    "# 上傳檔案到籃子\n",
    "# Upload a File to an Amazon S3 Bucket\n",
    "bucket_name = 'cc104'\n",
    "filename = 'file.txt'\n",
    "upfilename = 'cc104.txt'\n",
    "\n",
    "# client version\n",
    "# Uploads the given file using a managed uploader, which will split up large\n",
    "# files automatically and upload parts in parallel.\n",
    "s3.upload_file(filename, bucket_name, upfilename)\n",
    "\n",
    "# resource version\n",
    "#uploadObject = s3resource.Object('cc104',upfilename).put(Body=open('./'+str(filename), 'rb'))"
   ]
  },
  {
   "cell_type": "code",
   "execution_count": 6,
   "metadata": {},
   "outputs": [],
   "source": [
    "# 下載物件\n",
    "BUCKET_NAME = 'cc104' # replace with your bucket name\n",
    "KEY = 'cc104.txt' # replace with your object key\n",
    "\n",
    "# 以下兩個方法都可以使用\n",
    "s3resource.Bucket(BUCKET_NAME).download_file(KEY, 'cc104-download.txt')\n",
    "#s3resource.meta.client.download_file('cc104', 'cc104.txt', './cc104.txt')"
   ]
  },
  {
   "cell_type": "code",
   "execution_count": 10,
   "metadata": {},
   "outputs": [
    {
     "data": {
      "text/plain": [
       "{'ResponseMetadata': {'HTTPStatusCode': 204,\n",
       "  'HTTPHeaders': {'server': 'WEBrick/1.4.2 (Ruby/2.5.0/2017-12-25) OpenSSL/2.6.3',\n",
       "   'date': 'Mon, 14 Jan 2019 06:20:52 GMT',\n",
       "   'connection': 'Keep-Alive'},\n",
       "  'RetryAttempts': 0}}"
      ]
     },
     "execution_count": 10,
     "metadata": {},
     "output_type": "execute_result"
    }
   ],
   "source": [
    "# 刪除籃子的物件\n",
    "#BUCKET_NAME = 'cc104' # replace with your bucket name\n",
    "#KEY = 'cc104.txt' # replace with your object key\n",
    "s3.delete_object(\n",
    "    Bucket = 'cc104' , \n",
    "    Key = 'cc104.txt'\n",
    ")"
   ]
  },
  {
   "cell_type": "code",
   "execution_count": 30,
   "metadata": {},
   "outputs": [
    {
     "name": "stdout",
     "output_type": "stream",
     "text": [
      "{'ResponseMetadata': {'HTTPHeaders': {'accept-ranges': 'bytes',\n",
      "                                      'access-control-allow-origin': '*',\n",
      "                                      'connection': 'Keep-Alive',\n",
      "                                      'content-disposition': 'attachment',\n",
      "                                      'content-length': '0',\n",
      "                                      'content-type': '',\n",
      "                                      'date': 'Mon, 14 Jan 2019 07:02:19 GMT',\n",
      "                                      'etag': '\"d41d8cd98f00b204e9800998ecf8427e\"',\n",
      "                                      'last-modified': 'Mon, 14 Jan 2019 '\n",
      "                                                       '06:23:37 GMT',\n",
      "                                      'last-ranges': 'bytes',\n",
      "                                      'server': 'WEBrick/1.4.2 '\n",
      "                                                '(Ruby/2.5.0/2017-12-25) '\n",
      "                                                'OpenSSL/2.6.3'},\n",
      "                      'HTTPStatusCode': 200,\n",
      "                      'RetryAttempts': 0}}\n"
     ]
    }
   ],
   "source": [
    "# 列出籃子的物件\n",
    "objs = s3.list_objects_v2( Bucket = 'cc104' )\n",
    "pprint(objs)"
   ]
  },
  {
   "cell_type": "code",
   "execution_count": null,
   "metadata": {},
   "outputs": [],
   "source": []
  }
 ],
 "metadata": {
  "kernelspec": {
   "display_name": "Python 3",
   "language": "python",
   "name": "python3"
  },
  "language_info": {
   "codemirror_mode": {
    "name": "ipython",
    "version": 3
   },
   "file_extension": ".py",
   "mimetype": "text/x-python",
   "name": "python",
   "nbconvert_exporter": "python",
   "pygments_lexer": "ipython3",
   "version": "3.7.1"
  }
 },
 "nbformat": 4,
 "nbformat_minor": 2
}
